{
 "cells": [
  {
   "cell_type": "markdown",
   "id": "35670426-539d-48a0-812e-8fe10dcc67f1",
   "metadata": {},
   "source": [
    "PCA"
   ]
  },
  {
   "cell_type": "code",
   "execution_count": 1,
   "id": "89efc46f-89a2-4ae9-b855-47ab5a5eada0",
   "metadata": {},
   "outputs": [],
   "source": [
    "import numpy as np\n",
    "from sklearn.datasets import load_iris\n",
    "\n",
    "X = load_iris()[\"data\"]"
   ]
  },
  {
   "cell_type": "markdown",
   "id": "e861aca8-8464-47d4-9cbb-3f5c7ecd3b74",
   "metadata": {},
   "source": [
    "a. First make the data zero centered by subtracting mean of each column from the column itself"
   ]
  },
  {
   "cell_type": "code",
   "execution_count": 2,
   "id": "ba9f3550-b959-4c94-84ef-d14d59412cb2",
   "metadata": {},
   "outputs": [],
   "source": [
    "def normalize(X):\n",
    "    for i in range(X.shape[1]):\n",
    "        X[:,i] =  X[:,i] - X[:,i].mean()\n",
    "    return X"
   ]
  },
  {
   "cell_type": "code",
   "execution_count": 3,
   "id": "1079627f-ef30-45d1-a880-cff76f7b4c96",
   "metadata": {},
   "outputs": [
    {
     "name": "stdout",
     "output_type": "stream",
     "text": [
      "[-0.74333333  0.44266667 -2.358      -0.99933333]\n"
     ]
    }
   ],
   "source": [
    "X_norm = normalize(X)\n",
    "print(X_norm[0,:])"
   ]
  },
  {
   "cell_type": "markdown",
   "id": "e2d7abea-b53f-4df8-a124-e773afafa994",
   "metadata": {},
   "source": [
    "b. Find the covariance matrix of the data using the following formula"
   ]
  },
  {
   "cell_type": "code",
   "execution_count": 4,
   "id": "ff163fa5-c616-40c5-9320-30352a001c96",
   "metadata": {},
   "outputs": [],
   "source": [
    "def covariance(X):\n",
    "    X = X.T.dot(X)/X.shape[0]\n",
    "    return X"
   ]
  },
  {
   "cell_type": "code",
   "execution_count": 5,
   "id": "aaa60648-3b11-412d-a39c-dbb4eca0c386",
   "metadata": {},
   "outputs": [
    {
     "name": "stdout",
     "output_type": "stream",
     "text": [
      "[[ 0.68112222 -0.04215111  1.26582     0.51282889]\n",
      " [-0.04215111  0.18871289 -0.32745867 -0.12082844]\n",
      " [ 1.26582    -0.32745867  3.09550267  1.286972  ]\n",
      " [ 0.51282889 -0.12082844  1.286972    0.57713289]]\n"
     ]
    }
   ],
   "source": [
    "S = covariance(X_norm)\n",
    "print(S)"
   ]
  },
  {
   "cell_type": "markdown",
   "id": "29b8b484-baf4-43e6-ac69-bb91837e0ad0",
   "metadata": {},
   "source": [
    "c. Find the eigenvalues of the covariance matrix and their corresponding eigenvectors in ordered manner, do not forget the sort the eigenvalues in descending order. You can use np.linalg.eig() function to find eigenvalues and eigenvectors"
   ]
  },
  {
   "cell_type": "code",
   "execution_count": 6,
   "id": "89613d4b-3808-4252-8364-dc061a690275",
   "metadata": {},
   "outputs": [],
   "source": [
    "def eigen(S):\n",
    "    eigen_value, eigen_matrix = np.linalg.eig(S)\n",
    "    return eigen_value, eigen_matrix"
   ]
  },
  {
   "cell_type": "code",
   "execution_count": 7,
   "id": "209b060c-d9f5-452e-9c54-f916f87cd459",
   "metadata": {},
   "outputs": [
    {
     "name": "stdout",
     "output_type": "stream",
     "text": [
      "[4.20005343 0.24105294 0.0776881  0.02367619]\n",
      "[[ 0.36138659 -0.65658877 -0.58202985  0.31548719]\n",
      " [-0.08452251 -0.73016143  0.59791083 -0.3197231 ]\n",
      " [ 0.85667061  0.17337266  0.07623608 -0.47983899]\n",
      " [ 0.3582892   0.07548102  0.54583143  0.75365743]]\n"
     ]
    }
   ],
   "source": [
    "eigen_value, eigen_matrix = eigen(S)\n",
    "print(eigen_value)\n",
    "print(eigen_matrix)"
   ]
  },
  {
   "cell_type": "markdown",
   "id": "31cb36b0-24a2-401b-9579-20b1f572e844",
   "metadata": {},
   "source": [
    "d. Lastly use the first k columns of the eigenmatrix to make the transformation "
   ]
  },
  {
   "cell_type": "code",
   "execution_count": 8,
   "id": "8f741d5b-9056-49e7-8c45-48b070dd1fad",
   "metadata": {},
   "outputs": [],
   "source": [
    "def transform(X,B,k):\n",
    "    X_transformed = X.dot(B[:,:k])\n",
    "    return X_transformed"
   ]
  },
  {
   "cell_type": "code",
   "execution_count": 9,
   "id": "32848bb3-a84c-4de0-b898-15c8bc0a37a3",
   "metadata": {},
   "outputs": [
    {
     "name": "stdout",
     "output_type": "stream",
     "text": [
      "[-2.68412563e+00 -3.19397247e-01 -2.79148276e-02  2.26243707e-03]\n"
     ]
    }
   ],
   "source": [
    "X_transformed = transform(X_norm, eigen_matrix, 4)\n",
    "print(X_transformed[0,:])"
   ]
  }
 ],
 "metadata": {
  "kernelspec": {
   "display_name": "env",
   "language": "python",
   "name": "env"
  },
  "language_info": {
   "codemirror_mode": {
    "name": "ipython",
    "version": 3
   },
   "file_extension": ".py",
   "mimetype": "text/x-python",
   "name": "python",
   "nbconvert_exporter": "python",
   "pygments_lexer": "ipython3",
   "version": "3.10.0"
  }
 },
 "nbformat": 4,
 "nbformat_minor": 5
}
